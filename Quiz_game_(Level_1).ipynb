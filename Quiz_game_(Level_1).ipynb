{
  "nbformat": 4,
  "nbformat_minor": 0,
  "metadata": {
    "colab": {
      "name": "Quiz game (Level 1)",
      "provenance": [],
      "include_colab_link": true
    },
    "kernelspec": {
      "name": "python3",
      "display_name": "Python 3"
    }
  },
  "cells": [
    {
      "cell_type": "markdown",
      "metadata": {
        "id": "view-in-github",
        "colab_type": "text"
      },
      "source": [
        "<a href=\"https://colab.research.google.com/github/wallik2/QuizGame/blob/main/Quiz_game_(Level_1).ipynb\" target=\"_parent\"><img src=\"https://colab.research.google.com/assets/colab-badge.svg\" alt=\"Open In Colab\"/></a>"
      ]
    },
    {
      "cell_type": "code",
      "metadata": {
        "id": "aNrGD-lm94i_"
      },
      "source": [
        "import random"
      ],
      "execution_count": 12,
      "outputs": []
    },
    {
      "cell_type": "code",
      "metadata": {
        "id": "vBdMwuYCcA6F"
      },
      "source": [
        "class Game:\n",
        "  \n",
        "  LeaderBoarder = {}\n",
        "  Sorted_Boarder = []\n",
        "\n",
        "  def __init__(self,name):\n",
        "    self.name = name\n",
        "    self.score = 0\n",
        "\n",
        "    return self.Gameplay()\n",
        "\n",
        "  def Q_1(self):\n",
        "    print('What is 2+2')\n",
        "    answer = input('Type your answer here: ')\n",
        "    if (answer == '4'):\n",
        "      self.score +=1\n",
        "\n",
        "    else:\n",
        "      pass\n",
        "\n",
        "  def Q_2(self):   \n",
        "    print('The most antioxidant fruit ?')\n",
        "    answer = input('Type your answer here: ')\n",
        "\n",
        "    if (answer == 'Indian gooseberry' or answer == 'amla' ):\n",
        "      self.score += 150\n",
        "      print('BAM, you got 150 points')\n",
        "    \n",
        "    elif (answer == 'CheeseBurger'):\n",
        "      self.score -= 80\n",
        "\n",
        "    else:\n",
        "      pass\n",
        "\n",
        "  def Q_3(self):\n",
        "    print('What is square root of 144')\n",
        "    answer = input('Type your answer here: ')\n",
        "\n",
        "    if (answer == '12'):\n",
        "       self.score += 10\n",
        "\n",
        "    else:\n",
        "      pass\n",
        "\n",
        "###############################################################################\n",
        "\n",
        "\n",
        "  def Gameplay(self):\n",
        "    \n",
        "    random_game = {1:self.Q_1, 2:self.Q_2, 3:self.Q_3}\n",
        "    x = random.sample([1,2,3],3)\n",
        "\n",
        "    for i in x:\n",
        "      random_game[i]()\n",
        "      print('#'*14,'\\n'*2)\n",
        "    return self.sumup()\n",
        "\n",
        "  def sumup(self):\n",
        "      print('you got', self.score)      \n",
        "      return self.LeaderBoard()\n",
        "\n",
        "  ##@classmethod\n",
        "  def LeaderBoard(self):\n",
        "    \n",
        "    cls = self.__class__\n",
        "    cls.LeaderBoarder[self.name] = self.score   \n",
        "\n",
        "    cls.sorted_Boarder = sorted(cls.LeaderBoarder.items(), key=lambda x: x[1], reverse=True)\n",
        "\n",
        "    print('\\n'*6, 'Current Leaderboard\\n')\n",
        "\n",
        "    for i in cls.sorted_Boarder:\n",
        "\t    print(i[0], i[1])       "
      ],
      "execution_count": 13,
      "outputs": []
    },
    {
      "cell_type": "markdown",
      "source": [
        "🎮 Let's play game!!"
      ],
      "metadata": {
        "id": "IMEKb5Xpk7lR"
      }
    },
    {
      "cell_type": "code",
      "metadata": {
        "colab": {
          "base_uri": "https://localhost:8080/"
        },
        "id": "VSs3KeoYeoEG",
        "outputId": "55f4b20d-8f83-4c4d-b677-0b5d9637801e"
      },
      "source": [
        "Saran = Game('Saran')"
      ],
      "execution_count": 14,
      "outputs": [
        {
          "output_type": "stream",
          "name": "stdout",
          "text": [
            "What is 2+2\n",
            "Type your answer here: 4\n",
            "############## \n",
            "\n",
            "\n",
            "What is square root of 144\n",
            "Type your answer here: idk\n",
            "############## \n",
            "\n",
            "\n",
            "The most antioxidant fruit ?\n",
            "Type your answer here: apple\n",
            "############## \n",
            "\n",
            "\n",
            "you got 1\n",
            "\n",
            "\n",
            "\n",
            "\n",
            "\n",
            "\n",
            " Current Leaderboard\n",
            "\n",
            "Saran 1\n"
          ]
        }
      ]
    },
    {
      "cell_type": "code",
      "metadata": {
        "colab": {
          "base_uri": "https://localhost:8080/"
        },
        "id": "fxo4hGygy1fW",
        "outputId": "d11f0c63-7f9b-49fa-ef77-e4610ce47c86"
      },
      "source": [
        "Earth = Game('Earth')"
      ],
      "execution_count": 15,
      "outputs": [
        {
          "output_type": "stream",
          "name": "stdout",
          "text": [
            "The most antioxidant fruit ?\n",
            "Type your answer here: amla\n",
            "BAM, you got 150 points\n",
            "############## \n",
            "\n",
            "\n",
            "What is square root of 144\n",
            "Type your answer here: 13\n",
            "############## \n",
            "\n",
            "\n",
            "What is 2+2\n",
            "Type your answer here: 3\n",
            "############## \n",
            "\n",
            "\n",
            "you got 150\n",
            "\n",
            "\n",
            "\n",
            "\n",
            "\n",
            "\n",
            " Current Leaderboard\n",
            "\n",
            "Earth 150\n",
            "Saran 1\n"
          ]
        }
      ]
    },
    {
      "cell_type": "code",
      "metadata": {
        "colab": {
          "base_uri": "https://localhost:8080/"
        },
        "id": "RyAFhk-r2sho",
        "outputId": "468818c3-5fd8-4966-b900-612124f84a7b"
      },
      "source": [
        "Junior = Game('Junior')"
      ],
      "execution_count": 16,
      "outputs": [
        {
          "output_type": "stream",
          "name": "stdout",
          "text": [
            "What is square root of 144\n",
            "Type your answer here: 12\n",
            "############## \n",
            "\n",
            "\n",
            "What is 2+2\n",
            "Type your answer here: 4\n",
            "############## \n",
            "\n",
            "\n",
            "The most antioxidant fruit ?\n",
            "Type your answer here: amla\n",
            "BAM, you got 150 points\n",
            "############## \n",
            "\n",
            "\n",
            "you got 161\n",
            "\n",
            "\n",
            "\n",
            "\n",
            "\n",
            "\n",
            " Current Leaderboard\n",
            "\n",
            "Junior 161\n",
            "Earth 150\n",
            "Saran 1\n"
          ]
        }
      ]
    },
    {
      "cell_type": "code",
      "source": [
        "Saran = Game('Saran')"
      ],
      "metadata": {
        "id": "X54QRaWBlO6I",
        "outputId": "ab6443dc-b847-4aa5-ade0-ccc4e1703f05",
        "colab": {
          "base_uri": "https://localhost:8080/"
        }
      },
      "execution_count": 17,
      "outputs": [
        {
          "output_type": "stream",
          "name": "stdout",
          "text": [
            "What is square root of 144\n",
            "Type your answer here: 1\n",
            "############## \n",
            "\n",
            "\n",
            "What is 2+2\n",
            "Type your answer here: 4\n",
            "############## \n",
            "\n",
            "\n",
            "The most antioxidant fruit ?\n",
            "Type your answer here: CheeseBurger\n",
            "############## \n",
            "\n",
            "\n",
            "you got -79\n",
            "\n",
            "\n",
            "\n",
            "\n",
            "\n",
            "\n",
            " Current Leaderboard\n",
            "\n",
            "Junior 161\n",
            "Earth 150\n",
            "Saran -79\n"
          ]
        }
      ]
    },
    {
      "cell_type": "markdown",
      "metadata": {
        "id": "cnq0drRipU68"
      },
      "source": [
        "\n",
        "\n",
        "---\n",
        "\n"
      ]
    }
  ]
}